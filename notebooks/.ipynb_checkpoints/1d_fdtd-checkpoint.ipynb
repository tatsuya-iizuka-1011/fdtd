{
 "cells": [
  {
   "cell_type": "code",
   "execution_count": 1,
   "metadata": {},
   "outputs": [],
   "source": [
    "import numpy as np\n",
    "import pandas as pd\n",
    "import matplotlib.pyplot as plt \n",
    "import matplotlib.animation as animation\n",
    "from mpl_toolkits.mplot3d import Axes3D\n",
    "\n",
    "\n",
    "from tqdm import tqdm \n",
    "%matplotlib inline\n",
    "\n",
    "plt.style.use(\"dark_background\")"
   ]
  },
  {
   "cell_type": "markdown",
   "metadata": {},
   "source": [
    "# constant values"
   ]
  },
  {
   "cell_type": "code",
   "execution_count": 2,
   "metadata": {},
   "outputs": [],
   "source": [
    "permittivity_of_vacuum = 8.85419e-12\n",
    "permeability_of_vacuum = 1.25664e-06"
   ]
  },
  {
   "cell_type": "markdown",
   "metadata": {},
   "source": [
    "# intialization"
   ]
  },
  {
   "cell_type": "code",
   "execution_count": 3,
   "metadata": {},
   "outputs": [
    {
     "name": "stdout",
     "output_type": "stream",
     "text": [
      "check stable True\n",
      "wave_length : 0.33356452631537425[m], x_limit : 6.0[m], y_limit : 6.0[m], dx : 0.1[m], dy : 0.1[m]\n"
     ]
    }
   ],
   "source": [
    "# %%time\n",
    "# set \n",
    "t = 0\n",
    "dt = 1e-10\n",
    "nt= 100\n",
    "f = 1 * 1e8\n",
    "amplitude = 0.1\n",
    "\n",
    "ndim = 2\n",
    "Nx = Ny = 60\n",
    "dx = dy = 0.1\n",
    "\n",
    "\n",
    "\n",
    "# set field properties\n",
    "conductivity = 0 * np.ones((Nx, Ny, 1))\n",
    "permittivity = permittivity_of_vacuum * np.ones((Nx, Ny, 1))\n",
    "permeability = permeability_of_vacuum * np.ones((Nx, Ny, 1))\n",
    "\n",
    "\n",
    "coeff1 = conductivity * dt / (2 * permittivity)\n",
    "c_ez = (1 - coeff1) / (1 + coeff1) \n",
    "c_ezlx = dt/(permittivity * dx * (1 + coeff1))\n",
    "c_ezly = dt/(permittivity * dy * (1 + coeff1))\n",
    "\n",
    "c_hxlx = dt/(permeability * dx)\n",
    "c_hxly = dt/(permeability * dy)\n",
    "\n",
    "e_field = np.zeros((Nx, Ny, 1)) # only z direction\n",
    "h_field = np.zeros((Nx, Ny, 2)) # x and y direction\n",
    "\n",
    "# set excitation properties\n",
    "ex_x = int(Nx / 2)\n",
    "ex_y = int(Ny / 2)\n",
    "t_arr  = np.arange(nt) * dt\n",
    "ez_result = np.zeros((t_arr.shape[0], Nx, Ny, 1))\n",
    "\n",
    "z0 = np.sqrt(permeability_of_vacuum/permittivity_of_vacuum)\n",
    "c = 1/ np.sqrt( permeability_of_vacuum * permittivity_of_vacuum)\n",
    "wave_length = f / c\n",
    "print(\"check stable\", 1/(np.sqrt((1/dx)**2 + (1/dy)**2)) >c * dt)\n",
    "print(\"wave_length : {}[m], x_limit : {}[m], y_limit : {}[m], dx : {}[m], dy : {}[m]\".format(wave_length, Nx*dx, Ny*dy, dx, dy))\n",
    "\n",
    "e_field = np.zeros((Nx, Ny, 1)) # only z direction\n",
    "h_field = np.zeros((Nx, Ny, 2)) # x and y direction\n",
    "\n",
    "# set excitation properties\n",
    "'''\n",
    "ex_x = int(Nx / 2)\n",
    "ex_y = int(Ny / 2)\n",
    "t_arr  = np.arange(nt) * dt\n",
    "ez_val = amplitude * np.sin(2 * np.pi * f * t_arr)\n",
    "ez_result = np.zeros((t_arr.shape[0], Nx, Ny, 1))\n",
    "'''\n",
    "# init_plane_wave = amplitude * np.sin(2 * np.pi * f  / c * dy * np.arange(Ny))\n",
    "e_field[ex_x,ex_y,0] = amplitude"
   ]
  },
  {
   "cell_type": "code",
   "execution_count": null,
   "metadata": {},
   "outputs": [],
   "source": []
  }
 ],
 "metadata": {
  "kernelspec": {
   "display_name": "Python 3",
   "language": "python",
   "name": "python3"
  },
  "language_info": {
   "codemirror_mode": {
    "name": "ipython",
    "version": 3
   },
   "file_extension": ".py",
   "mimetype": "text/x-python",
   "name": "python",
   "nbconvert_exporter": "python",
   "pygments_lexer": "ipython3",
   "version": "3.7.0"
  }
 },
 "nbformat": 4,
 "nbformat_minor": 2
}
