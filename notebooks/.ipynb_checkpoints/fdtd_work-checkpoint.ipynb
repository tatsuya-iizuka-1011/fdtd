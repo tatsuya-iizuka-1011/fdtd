{
 "cells": [
  {
   "cell_type": "markdown",
   "metadata": {},
   "source": [
    "# TODO\n",
    "- 収束しないので、プログラムがおかしい\n",
    "    - おそらく励起させるやり方が間違っているので、教科書を読む"
   ]
  },
  {
   "cell_type": "code",
   "execution_count": 7,
   "metadata": {},
   "outputs": [],
   "source": [
    "import numpy as np\n",
    "import matplotlib.pyplot as plt \n",
    "import matplotlib.animation as animation\n",
    "\n",
    "from tqdm import tqdm \n",
    "%matplotlib inline\n",
    "\n",
    "plt.style.use(\"dark_background\")"
   ]
  },
  {
   "cell_type": "code",
   "execution_count": 8,
   "metadata": {},
   "outputs": [],
   "source": [
    "permittivity_of_vacuum = 8.85419e-12\n",
    "permeability_of_vacuum = 1.25664e-06"
   ]
  },
  {
   "cell_type": "code",
   "execution_count": 5,
   "metadata": {},
   "outputs": [
    {
     "name": "stdout",
     "output_type": "stream",
     "text": [
      "check stable True\n",
      "87037762365.04868\n",
      "CPU times: user 5.32 s, sys: 157 ms, total: 5.48 s\n",
      "Wall time: 6.32 s\n"
     ]
    }
   ],
   "source": [
    "%%time\n",
    "# set \n",
    "t = 0\n",
    "dt = 1e-8\n",
    "nt= 1e2\n",
    "f = 2 * 1e5\n",
    "\n",
    "\n",
    "ndim = 2\n",
    "Nx = Ny = 50\n",
    "dx = dy = 20 # when wave length is 1.5e6\n",
    "\n",
    "\n",
    "\n",
    "# set field properties\n",
    "conductivity = 0 * np.ones((Nx, Ny, 1))\n",
    "permittivity = permittivity_of_vacuum * np.ones((Nx, Ny, 1))\n",
    "permeability = permeability_of_vacuum * np.ones((Nx, Ny, 1))\n",
    "\n",
    "coeff1 = conductivity * dt / (2 * permittivity)\n",
    "c_ez = (1 - coeff1) / (1 + coeff1) \n",
    "c_ezlx = dt/(permittivity * dx * (1 + coeff1))\n",
    "c_ezly = dt/(permittivity * dy * (1 + coeff1))\n",
    "\n",
    "c_hxlx = dt/(permeability * dx)\n",
    "c_hxly = dt/(permeability * dy)\n",
    "\n",
    "e_field = np.zeros((Nx, Ny, 1)) # only z direction\n",
    "h_field = np.zeros((Nx, Ny, 2)) # x and y direction\n",
    "\n",
    "# set excitation properties\n",
    "ex_x = int(Nx / 2)\n",
    "ex_y = int(Ny / 2)\n",
    "t_arr  = np.arange(nt) * dt\n",
    "ez_val = 10 * np.sin(2 * np.pi * f * t_arr)\n",
    "ez_result = np.zeros((t_arr.shape[0], Nx, Ny, 1))\n",
    "\n",
    "c = 1/ np.sqrt( permeability_of_vacuum * permittivity_of_vacuum)\n",
    "print(\"check stable\", 1/(np.sqrt((1/dx)**2 + (1/dy)**2)) >c * dt)\n",
    "\n",
    "for k, ex_ez in enumerate(ez_val):\n",
    "    # excitation\n",
    "    e_field[ex_x, ex_y] = ex_ez\n",
    "    ez_result[k] = e_field\n",
    "    # calc Ez\n",
    "    for i  in range(1,Nx):\n",
    "        for j  in range(1,Ny):\n",
    "            e_field[i, j] = c_ez[i, j] * e_field[i,j] + c_ezly[i,j]*(h_field[i,j,0] - h_field[i,j-1,0])  \\\n",
    "            + c_ezlx[i,j]*(h_field[i,j,1] - h_field[i-1,j,1])\n",
    "    # e_field\n",
    "    # print(e_field[ex_x-1:ex_x+2,ex_y-1:ex_y+2])\n",
    "    # calc Hx\n",
    "    for i  in range(0, Nx):\n",
    "        for j  in range(0, Ny - 1):\n",
    "            h_field[i,  j, 0] = h_field[i,  j, 0] - c_hxly[i, j] * (e_field[i, j+1] - e_field[i, j])\n",
    "    # calc Hy\n",
    "    for i  in range(0, Nx - 1):\n",
    "        for j  in range(0, Ny):\n",
    "            h_field[i,  j, 1] = h_field[i,  j, 1] + c_hxlx[i, j] * (e_field[i+1, j] - e_field[i, j])\n",
    "    #plt.plot(t_arr, ez_val)\n",
    "print(np.sqrt(np.sum(e_field**2)))"
   ]
  },
  {
   "cell_type": "code",
   "execution_count": 9,
   "metadata": {},
   "outputs": [],
   "source": [
    "def gen_animation(filename, ez_result, step=1):\n",
    "    fig = plt.figure()\n",
    "    ims = []\n",
    "    res_len = ez_val.shape[0]\n",
    "\n",
    "    for k in range(0, res_len, step):\n",
    "        im = plt.imshow(ez_result[k,:,:,0], animated=True)\n",
    "        ims.append([im])\n",
    "\n",
    "    ani = animation.ArtistAnimation(fig, ims, interval=50, blit=True, repeat_delay=1000)\n",
    "    ani.save('{}.gif'.format(filename), writer=\"imagemagick\")\n",
    "    plt.show()"
   ]
  },
  {
   "cell_type": "markdown",
   "metadata": {},
   "source": [
    "## numpy implementation"
   ]
  },
  {
   "cell_type": "code",
   "execution_count": 20,
   "metadata": {},
   "outputs": [
    {
     "name": "stdout",
     "output_type": "stream",
     "text": [
      "check stable True\n"
     ]
    },
    {
     "name": "stderr",
     "output_type": "stream",
     "text": [
      "/anaconda3/lib/python3.7/site-packages/ipykernel_launcher.py:57: RuntimeWarning: overflow encountered in subtract\n",
      "/anaconda3/lib/python3.7/site-packages/ipykernel_launcher.py:59: RuntimeWarning: overflow encountered in subtract\n"
     ]
    },
    {
     "name": "stdout",
     "output_type": "stream",
     "text": [
      "inf\n",
      "CPU times: user 1.93 s, sys: 244 ms, total: 2.17 s\n",
      "Wall time: 2.69 s\n"
     ]
    }
   ],
   "source": [
    "%%time\n",
    "t = 0\n",
    "dt = 1e-8\n",
    "nt= 1e4\n",
    "f = 2 * 1e5\n",
    "amplitude = 0.1\n",
    "\n",
    "ndim = 2\n",
    "Nx = Ny = 50\n",
    "dx = dy = 20 # when wave length is 1.5e6\n",
    "\n",
    "\n",
    "\n",
    "# set field properties\n",
    "conductivity = 0 * np.ones((Nx, Ny, 1))\n",
    "permittivity = permittivity_of_vacuum * np.ones((Nx, Ny, 1))\n",
    "permeability = permeability_of_vacuum * np.ones((Nx, Ny, 1))\n",
    "\n",
    "coeff1 = conductivity * dt / (2 * permittivity)\n",
    "c_ez = (1 - coeff1) / (1 + coeff1) \n",
    "c_ezlx = dt/(permittivity * dx * (1 + coeff1))\n",
    "c_ezly = dt/(permittivity * dy * (1 + coeff1))\n",
    "\n",
    "c_hxlx = dt/(permeability * dx)\n",
    "c_hxly = dt/(permeability * dy)\n",
    "\n",
    "e_field = np.zeros((Nx, Ny, 1)) # only z direction\n",
    "h_field = np.zeros((Nx, Ny, 2)) # x and y direction\n",
    "\n",
    "# set excitation properties\n",
    "ex_x = int(Nx / 2)\n",
    "ex_y = int(Ny / 2)\n",
    "t_arr  = np.arange(nt) * dt\n",
    "ez_val = 10 * np.sin(2 * np.pi * f * t_arr)\n",
    "ez_result = np.zeros((t_arr.shape[0], Nx, Ny, 1))\n",
    "\n",
    "c = 1/ np.sqrt( permeability_of_vacuum * permittivity_of_vacuum)\n",
    "print(\"check stable\", 1/(np.sqrt((1/dx)**2 + (1/dy)**2)) >c * dt)\n",
    "\n",
    "e_field = np.zeros((Nx, Ny, 1)) # only z direction\n",
    "h_field = np.zeros((Nx, Ny, 2)) # x and y direction\n",
    "\n",
    "# set excitation properties\n",
    "ex_x = int(Nx / 2)\n",
    "ex_y = int(Ny / 2)\n",
    "t_arr  = np.arange(nt) * dt\n",
    "ez_val = amplitude * np.sin(2 * np.pi * f * t_arr)\n",
    "ez_result = np.zeros((t_arr.shape[0], Nx, Ny, 1))\n",
    "\n",
    "for k, ex_ez in enumerate(ez_val):\n",
    "    # excitation\n",
    "    e_field[ex_x, ex_y] = ex_ez\n",
    "    ez_result[k] = e_field\n",
    "    # calc Ez\n",
    "    e_field[1:, 1:, 0] = (c_ez[1:, 1:, 0] * e_field[1:, 1:, 0]) + c_ezly[1:, 1:, 0] * (h_field[1:, 1:, 0] - h_field[1:, :Ny-1, 0]) \\\n",
    "        + c_ezlx[1:, 1:, 0] * (h_field[1:, 1:, 1] - h_field[:Nx-1, 1:, 1])    \n",
    "\n",
    "    # calc Hx\n",
    "    h_field[:, :Ny-1, 0] = h_field[:, :Ny-1, 0] - c_hxly[:, :Ny-1,0] * (e_field[:, 1:, 0] - e_field[:, :Ny-1, 0])\n",
    "    # calc Hy\n",
    "    h_field[:Nx-1, :, 1] -= c_hxlx[:Nx-1, :, 0] * (e_field[1:, :, 0] - e_field[:Nx-1, :, 0])\n",
    "    #plt.plot(t_arr, ez_val)\n",
    "    \n",
    "print(np.sqrt(np.sum(e_field**2)))"
   ]
  },
  {
   "cell_type": "code",
   "execution_count": 21,
   "metadata": {},
   "outputs": [
    {
     "name": "stderr",
     "output_type": "stream",
     "text": [
      "MovieWriter imagemagick unavailable.\n"
     ]
    },
    {
     "data": {
      "image/png": "[encoded data removed]",
      "text/plain": [
       "<Figure size 432x288 with 1 Axes>"
      ]
     },
     "metadata": {
      "needs_background": "dark"
     },
     "output_type": "display_data"
    }
   ],
   "source": [
    "gen_animation(\"np_10waves\", ez_result, step=200)"
   ]
  },
  {
   "cell_type": "code",
   "execution_count": 19,
   "metadata": {},
   "outputs": [
    {
     "data": {
      "text/plain": [
       "array([[  0.,   0.,   0., ...,   0.,   0.,   0.],\n",
       "       [  0.,  inf, -inf, ...,  inf, -inf,  inf],\n",
       "       [  0., -inf,  inf, ..., -inf,  inf, -inf],\n",
       "       ...,\n",
       "       [  0.,  inf, -inf, ...,  inf, -inf,  inf],\n",
       "       [  0., -inf,  inf, ..., -inf,  inf, -inf],\n",
       "       [  0.,  inf, -inf, ...,  inf, -inf,  inf]])"
      ]
     },
     "execution_count": 19,
     "metadata": {},
     "output_type": "execute_result"
    }
   ],
   "source": [
    "e_field[:,:,0]"
   ]
  }
 ],
 "metadata": {
  "kernelspec": {
   "display_name": "Python 3",
   "language": "python",
   "name": "python3"
  },
  "language_info": {
   "codemirror_mode": {
    "name": "ipython",
    "version": 3
   },
   "file_extension": ".py",
   "mimetype": "text/x-python",
   "name": "python",
   "nbconvert_exporter": "python",
   "pygments_lexer": "ipython3",
   "version": "3.7.0"
  }
 },
 "nbformat": 4,
 "nbformat_minor": 2
}
