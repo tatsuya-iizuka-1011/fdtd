{
 "cells": [
  {
   "cell_type": "markdown",
   "metadata": {},
   "source": [
    "## 2D FDTD\n",
    "- 「FDTD法による電磁界およびアンテナ解析」を参照"
   ]
  },
  {
   "cell_type": "code",
   "execution_count": 1,
   "metadata": {},
   "outputs": [],
   "source": [
    "import numpy as np\n",
    "import matplotlib.pyplot as plt \n",
    "import matplotlib.animation as animation\n",
    "\n",
    "from tqdm import tqdm \n",
    "%matplotlib inline\n",
    "\n",
    "plt.style.use(\"dark_background\")"
   ]
  },
  {
   "cell_type": "code",
   "execution_count": 2,
   "metadata": {},
   "outputs": [],
   "source": [
    "# setup()\n",
    "\n",
    "t = 0\n",
    "dt = 1e-4\n",
    "nt= 1e3\n",
    "\n",
    "ndim = 2\n",
    "Nx = Ny = 200\n",
    "dx = dy = 1\n",
    "\n",
    "# TM wave\n",
    "e_field = np.ones((Nx, Ny, 1)) # only z direction\n",
    "h_field = np.zeros((Nx, Ny, 2)) # x and y direction\n",
    "\n",
    "\n",
    "\n",
    "    "
   ]
  },
  {
   "cell_type": "code",
   "execution_count": 3,
   "metadata": {},
   "outputs": [],
   "source": [
    "conductivity = 1 * np.ones((Nx, Ny, 1))\n",
    "permittivity = 1 * np.ones((Nx, Ny, 1))\n",
    "permeability = np.ones((Nx, Ny, 1))\n",
    "\n",
    "coeff1 = conductivity * dt / (2 * permittivity)\n",
    "c_ez = (1 - coeff1) / (1 + coeff1) \n",
    "c_ezlx = dt/(permittivity * dx * (1 + coeff1))\n",
    "c_ezly = dt/(permittivity * dy * (1 + coeff1))\n",
    "\n",
    "c_hxlx = dt/(permeability * dx)\n",
    "c_hxly = dt/(permeability * dy)\n",
    "\n",
    "    \n",
    "    "
   ]
  },
  {
   "cell_type": "code",
   "execution_count": 4,
   "metadata": {},
   "outputs": [],
   "source": [
    "permittivity_of_vacuum = 8.85419e-12\n",
    "permeability_of_vacuum = 1.25664e-06"
   ]
  },
  {
   "cell_type": "code",
   "execution_count": 5,
   "metadata": {},
   "outputs": [
    {
     "data": {
      "text/plain": [
       "False"
      ]
     },
     "execution_count": 5,
     "metadata": {},
     "output_type": "execute_result"
    }
   ],
   "source": [
    "c = 1/ np.sqrt( permeability_of_vacuum * permittivity_of_vacuum)\n",
    "1/(np.sqrt((1/dx)**2 + (1/dy)**2)) >c * dt"
   ]
  },
  {
   "cell_type": "code",
   "execution_count": 6,
   "metadata": {},
   "outputs": [
    {
     "data": {
      "text/plain": [
       "False"
      ]
     },
     "execution_count": 6,
     "metadata": {},
     "output_type": "execute_result"
    }
   ],
   "source": [
    "1/(np.sqrt((1/dx)**2 + (1/dy)**2)) >c * dt"
   ]
  },
  {
   "cell_type": "code",
   "execution_count": 7,
   "metadata": {
    "scrolled": true
   },
   "outputs": [
    {
     "name": "stdout",
     "output_type": "stream",
     "text": [
      "87037762365.04868\n",
      "CPU times: user 5.18 s, sys: 121 ms, total: 5.3 s\n",
      "Wall time: 6.18 s\n"
     ]
    }
   ],
   "source": [
    "%%time\n",
    "# set \n",
    "t = 0\n",
    "dt = 1e-8\n",
    "nt= 1e2\n",
    "\n",
    "ndim = 2\n",
    "Nx = Ny = 50\n",
    "dx = dy = 20 # when wave length is 1.5e6\n",
    "\n",
    "\n",
    "\n",
    "# set field properties\n",
    "conductivity = 0 * np.ones((Nx, Ny, 1))\n",
    "permittivity = permittivity_of_vacuum * np.ones((Nx, Ny, 1))\n",
    "permeability = permeability_of_vacuum * np.ones((Nx, Ny, 1))\n",
    "\n",
    "coeff1 = conductivity * dt / (2 * permittivity)\n",
    "c_ez = (1 - coeff1) / (1 + coeff1) \n",
    "c_ezlx = dt/(permittivity * dx * (1 + coeff1))\n",
    "c_ezly = dt/(permittivity * dy * (1 + coeff1))\n",
    "\n",
    "c_hxlx = dt/(permeability * dx)\n",
    "c_hxly = dt/(permeability * dy)\n",
    "\n",
    "e_field = np.zeros((Nx, Ny, 1)) # only z direction\n",
    "h_field = np.zeros((Nx, Ny, 2)) # x and y direction\n",
    "\n",
    "# set excitation properties\n",
    "ex_x = int(Nx / 2)\n",
    "ex_y = int(Ny / 2)\n",
    "t_arr  = np.arange(nt) * dt\n",
    "f = 2 * 1e5\n",
    "ez_val = 10 * np.sin(2 * np.pi * f * t_arr)\n",
    "ez_result = np.zeros((t_arr.shape[0], Nx, Ny, 1))\n",
    "\n",
    "for k, ex_ez in enumerate(ez_val):\n",
    "    # excitation\n",
    "    e_field[ex_x, ex_y] = ex_ez\n",
    "    ez_result[k] = e_field\n",
    "    # calc Ez\n",
    "    for i  in range(1,Nx):\n",
    "        for j  in range(1,Ny):\n",
    "            e_field[i, j] = c_ez[i, j] * e_field[i,j] + c_ezly[i,j]*(h_field[i,j,0] - h_field[i,j-1,0])  \\\n",
    "            + c_ezlx[i,j]*(h_field[i,j,1] - h_field[i-1,j,1])\n",
    "    # e_field\n",
    "    # print(e_field[ex_x-1:ex_x+2,ex_y-1:ex_y+2])\n",
    "    # calc Hx\n",
    "    for i  in range(0, Nx):\n",
    "        for j  in range(0, Ny - 1):\n",
    "            h_field[i,  j, 0] = h_field[i,  j, 0] - c_hxly[i, j] * (e_field[i, j+1] - e_field[i, j])\n",
    "    # calc Hy\n",
    "    for i  in range(0, Nx - 1):\n",
    "        for j  in range(0, Ny):\n",
    "            h_field[i,  j, 1] = h_field[i,  j, 1] + c_hxlx[i, j] * (e_field[i+1, j] - e_field[i, j])\n",
    "    #plt.plot(t_arr, ez_val)\n",
    "print(np.sqrt(np.sum(e_field**2)))"
   ]
  },
  {
   "cell_type": "code",
   "execution_count": 9,
   "metadata": {},
   "outputs": [
    {
     "name": "stderr",
     "output_type": "stream",
     "text": [
      "MovieWriter imagemagick unavailable.\n"
     ]
    },
    {
     "data": {
      "image/png": "[encoded data removed]",
      "text/plain": [
       "<Figure size 432x288 with 1 Axes>"
      ]
     },
     "metadata": {
      "needs_background": "dark"
     },
     "output_type": "display_data"
    }
   ],
   "source": [
    "fig = plt.figure()\n",
    "ims = []\n",
    "res_len = ez_val.shape[0]\n",
    "\n",
    "for k in range(res_len):\n",
    "    im = plt.imshow(ez_result[k,:,:,0], animated=True)\n",
    "    ims.append([im])\n",
    "\n",
    "ani = animation.ArtistAnimation(fig, ims, interval=50, blit=True, repeat_delay=1000)\n",
    "ani.save('anim0.gif', writer=\"imagemagick\")\n",
    "plt.show()"
   ]
  },
  {
   "cell_type": "markdown",
   "metadata": {},
   "source": [
    "## numpy code"
   ]
  },
  {
   "cell_type": "code",
   "execution_count": null,
   "metadata": {},
   "outputs": [],
   "source": [
    "# %%time\n",
    "# set \n",
    "t = 0\n",
    "dt = 1e-8\n",
    "nt= 1e2\n",
    "\n",
    "ndim = 2\n",
    "Nx = Ny = 50\n",
    "dx = dy = 20  # when wave length is 1.5e6\n",
    "\n",
    "# set field properties\n",
    "conductivity = 0 * np.ones((Nx, Ny, 1))\n",
    "permittivity = permittivity_of_vacuum * np.ones((Nx, Ny, 1))\n",
    "permeability = permeability_of_vacuum * np.ones((Nx, Ny, 1))\n",
    "\n",
    "coeff1 = conductivity * dt / (2 * permittivity)\n",
    "c_ez = (1 - coeff1) / (1 + coeff1) \n",
    "c_ezlx = dt/(permittivity * dx * (1 + coeff1))\n",
    "c_ezly = dt/(permittivity * dy * (1 + coeff1))\n",
    "\n",
    "c_hxlx = dt/(permeability * dx)\n",
    "c_hxly = dt/(permeability * dy)\n",
    "\n",
    "e_field = np.zeros((Nx, Ny, 1)) # only z direction\n",
    "e_field_valid = np.zeros((Nx, Ny, 1)) # only z direction\n",
    "h_field = np.zeros((Nx, Ny, 2)) # x and y direction\n",
    "h_field_valid = np.zeros((Nx, Ny, 2)) # only z direction\n",
    "\n",
    "\n",
    "# set excitation properties\n",
    "ex_x = int(Nx / 2)\n",
    "ex_y = int(Ny / 2)\n",
    "t_arr  = np.arange(nt) * dt\n",
    "f = 2 * 1e5\n",
    "ez_val = 10 * np.sin(2 * np.pi * f * t_arr)\n",
    "ez_result = np.zeros((t_arr.shape[0], Nx, Ny, 1))\n",
    "\n",
    "for k, ex_ez in enumerate(ez_val):\n",
    "    # excitation\n",
    "    e_field_valid[ex_x, ex_y] = ex_ez\n",
    "    e_field[ex_x, ex_y] = ex_ez\n",
    "    ez_result[k] = e_field\n",
    "    # calc Ez\n",
    "    '''\n",
    "    for i  in range(1,Nx):\n",
    "        for j  in range(1,Ny):\n",
    "            e_field_valid[i, j] = c_ez[i, j] * e_field_valid[i,j] + c_ezly[i,j]*(h_field[i,j,0] - h_field[i,j-1,0])  \\\n",
    "            + c_ezlx[i,j]*(h_field[i,j,1] - h_field[i-1,j,1])\n",
    "    '''\n",
    "    e_field[1:, 1:, 0] = (c_ez[1:, 1:, 0] * e_field[1:, 1:, 0]) + c_ezly[1:, 1:, 0] * (h_field[1:, 1:, 0] - h_field[1:, :Ny-1, 0]) \\\n",
    "        + c_ezlx[1:, 1:, 0] * (h_field[1:, 1:, 1] - h_field[:Nx-1, 1:, 1])    \n",
    "\n",
    "    # calc Hx\n",
    "    for i  in range(0, Nx):\n",
    "        for j  in range(0, Ny - 1):\n",
    "            h_field_valid[i,  j, 0] = h_field_valid[i,  j, 0] - c_hxly[i, j] * (e_field_valid[i, j+1] - e_field_valid[i, j])\n",
    "\n",
    "    h_field[:, :Ny-1, 0] = h_field[:, :Ny-1, 0] - c_hxly[:, :Ny-1,0] * (e_field[:, 1:, 0] - e_field[:, :Ny-1, 0])\n",
    "    # calc Hy\n",
    "    '''\n",
    "    for i  in range(0, Nx - 1):\n",
    "        for j  in range(0, Ny):\n",
    "            h_field[i,  j, 1] = h_field[i,  j, 1] + c_hxlx[i, j] * (e_field[i+1, j] - e_field[i, j])\n",
    "    '''\n",
    "    h_field[:Nx-1, :, 1] -= c_hxlx[:Nx-1, :, 0] * (e_field[1:, :, 0] - e_field[:Nx-1, :, 0])\n",
    "    #plt.plot(t_arr, ez_val)\n",
    "    \n",
    "    print(\"nt:{}, e_dif:{}, h_dif:{}\".format(k, np.average(e_field_valid - e_field), np.average(h_field_valid - h_field)))\n",
    "print(np.sqrt(np.sum(e_field**2)))"
   ]
  },
  {
   "cell_type": "code",
   "execution_count": null,
   "metadata": {
    "scrolled": true
   },
   "outputs": [],
   "source": [
    "# set \n",
    "t = 0\n",
    "dt = 1e-8\n",
    "nt= 100\n",
    "\n",
    "ndim = 2\n",
    "Nx = Ny = 20\n",
    "dx = dy = 20 # when wave length is 1.5e6\n",
    "\n",
    "# set field properties\n",
    "conductivity = 0 * np.ones((Nx, Ny, 1))\n",
    "permittivity = permittivity_of_vacuum * np.ones((Nx, Ny, 1))\n",
    "permeability = permeability_of_vacuum * np.ones((Nx, Ny, 1))\n",
    "\n",
    "coeff1 = conductivity * dt / (2 * permittivity)\n",
    "c_ez = (1 - coeff1) / (1 + coeff1) \n",
    "c_ezlx = dt/(permittivity * dx * (1 + coeff1))\n",
    "c_ezly = dt/(permittivity * dy * (1 + coeff1))\n",
    "\n",
    "c_hxlx = dt/(permeability * dx)\n",
    "c_hxly = dt/(permeability * dy)\n",
    "\n",
    "e_field = np.zeros((Nx, Ny, 1)) # only z direction\n",
    "e_field_valid = np.zeros((Nx, Ny, 1)) # only z direction\n",
    "h_field = np.zeros((Nx, Ny, 2)) # x and y direction\n",
    "h_field_valid = np.zeros((Nx, Ny, 2)) # only z direction\n",
    "\n",
    "\n",
    "# set excitation properties\n",
    "ex_x = int(Nx / 2)\n",
    "ex_y = int(Ny / 2)\n",
    "t_arr  = np.arange(nt) * dt\n",
    "f = 2 * 1e5\n",
    "ez_val = 10 * np.sin(2 * np.pi * f * t_arr)\n",
    "ez_result = np.zeros((t_arr.shape[0], Nx, Ny, 1))\n",
    "\n",
    "for k, ex_ez in enumerate(ez_val):\n",
    "    # excitation\n",
    "    e_field_valid[ex_x, ex_y] = ex_ez\n",
    "    e_field[ex_x, ex_y] = ex_ez\n",
    "    ez_result[k] = e_field\n",
    "    # calc Ez\n",
    "    '''\n",
    "    for i  in range(1,Nx):\n",
    "        for j  in range(1,Ny):\n",
    "            e_field_valid[i, j] = c_ez[i, j] * e_field_valid[i,j] + c_ezly[i,j]*(h_field[i,j,0] - h_field[i,j-1,0])  \\\n",
    "            + c_ezlx[i,j]*(h_field[i,j,1] - h_field[i-1,j,1])\n",
    "    '''\n",
    "    e_field[1:, 1:, 0] = (c_ez[1:, 1:, 0] * e_field[1:, 1:, 0]) + c_ezly[1:, 1:, 0] * (h_field[1:, 1:, 0] - h_field[1:, :Ny-1, 0]) \\\n",
    "        + c_ezlx[1:, 1:, 0] * (h_field[1:, 1:, 1] - h_field[:Nx-1, 1:, 1])    \n",
    "\n",
    "    # calc Hx\n",
    "    '''\n",
    "    \n",
    "    for i  in range(0, Nx):\n",
    "        for j  in range(0, Ny - 1):\n",
    "            h_field_valid[i,  j, 0] = h_field_valid[i,  j, 0] - c_hxly[i, j] * (e_field_valid[i, j+1] - e_field_valid[i, j])\n",
    "    '''\n",
    "    h_field[:, :Ny-1, 0] -= h_field[:, :Ny-1, 0] - c_hxly[:, :Ny-1,0] * (e_field[:, 1:, 0] - e_field[:, :Ny-1, 0])\n",
    "    # calc Hy\n",
    "    '''\n",
    "    for i  in range(0, Nx - 1):\n",
    "        for j  in range(0, Ny):\n",
    "            h_field[i,  j, 1] = h_field[i,  j, 1] + c_hxlx[i, j] * (e_field[i+1, j] - e_field[i, j])\n",
    "    '''\n",
    "    h_field[:Nx-1, :, 1] -= c_hxlx[:Nx-1, :, 0] * (e_field[1:, :, 0] - e_field[:Nx-1, :, 0])\n",
    "    #plt.plot(t_arr, ez_val)\n",
    "    \n",
    "    print(\"nt:{}, e_dif:{}, h_dif:{}\".format(k, np.average(e_field_valid - e_field), np.average(h_field_valid - h_field)))\n",
    "print(np.sqrt(np.sum(e_field**2)))"
   ]
  },
  {
   "cell_type": "code",
   "execution_count": null,
   "metadata": {},
   "outputs": [],
   "source": [
    "fig = plt.figure()\n",
    "ims = []\n",
    "res_len = ez_val.shape[0]\n",
    "\n",
    "for k in range(res_len):\n",
    "    im = plt.imshow(ez_result[k,:,:,0], animated=True)\n",
    "    ims.append([im])\n",
    "\n",
    "ani = animation.ArtistAnimation(fig, ims, interval=50, blit=True, repeat_delay=1000)\n",
    "ani.save('anim1.gif', writer=\"imagemagick\")\n",
    "plt.show()"
   ]
  },
  {
   "cell_type": "code",
   "execution_count": null,
   "metadata": {},
   "outputs": [],
   "source": [
    "def update_h(e_field, h_field):\n",
    "    Nx = e_field.shape[0]\n",
    "    Ny = e_field.shape[1]\n",
    "    h_field_next = np.zeros_like(h_field)\n",
    "    for i in range(0, Nx):\n",
    "        for j in range(0, Ny-1):\n",
    "            h_field_next[i,  j, 0] = h_field[i,  j, 0] - c_hxly[i, j] * (e_field[i, j+1] - e_field[i, j])\n",
    "    return h_field_next\n",
    "\n",
    "def update_h_np(e_field, h_field):\n",
    "    h_field[:, :Ny-1, 0] = h_field[:, :Ny-1, 0] - c_hxly[:, :Ny-1,0] * (e_field[:, 1:, 0] - e_field[:, :Ny-1, 0])\n",
    "    return h_field"
   ]
  },
  {
   "cell_type": "code",
   "execution_count": null,
   "metadata": {},
   "outputs": [],
   "source": [
    "h_field_next_np = update_h_np(e_field, h_field)"
   ]
  },
  {
   "cell_type": "code",
   "execution_count": null,
   "metadata": {},
   "outputs": [],
   "source": [
    "update_h(e_field, h_field)[:,:,1] - update_h_np(e_field, h_field)[:,:,1]"
   ]
  },
  {
   "cell_type": "code",
   "execution_count": null,
   "metadata": {},
   "outputs": [],
   "source": [
    "print(np.average(update_h(e_field, h_field) - update_h_np(e_field, h_field)))\n",
    "\n",
    "h_field_next = update_h(e_field, h_field)\n",
    "h_field_next_np = update_h_np(e_field, h_field)\n",
    "for i in range(0, Nx):\n",
    "        for j in range(0, Ny-1):\n",
    "            valid_val = h_field[i,  j, 0] - c_hxly[i, j] * (e_field[i, j+1] - e_field[i, j])\n",
    "            print(\"valid is {}, np is {}, diff is {}\".format(h_field_next[i,j,0], h_field_next_np[i,j,0], h_field_next[i,j,0] - h_field_next_np[i,j,0]))"
   ]
  },
  {
   "cell_type": "code",
   "execution_count": null,
   "metadata": {},
   "outputs": [],
   "source": [
    "print(np.average(update_h(e_field, h_field) - update_h_np(e_field, h_field)))\n",
    "\n",
    "h_field_next[:, :Ny-1, 0] = h_field[:, :Ny-1, 0] - c_hxly[:, :Ny-1,0] * (e_field[:, 1:, 0] - e_field[:, :Ny-1, 0])\n",
    "for i in range(0, Nx):\n",
    "        for j in range(0, Ny-1):\n",
    "            valid_val = h_field[i,  j, 0] - c_hxly[i, j] * (e_field[i, j+1] - e_field[i, j])\n",
    "            print(\"valid is {}, np is {}, diff is {}\".format(valid_val, h_field_next[i,j,0], valid_val - h_field_next[i,j,0]))\n",
    "            "
   ]
  },
  {
   "cell_type": "code",
   "execution_count": null,
   "metadata": {},
   "outputs": [],
   "source": [
    "h_field_valid_next = np.ones_like(h_field_valid)\n",
    "h_field_next =  np.ones_like(h_field)\n",
    "\n",
    "for i  in range(0, Nx):\n",
    "        for j  in range(0, Ny - 1):\n",
    "            # if i ==1 and j == 1:\n",
    "                # print(h_field[i,  j, 0], c_hxly[i, j] , e_field[i,j+1], e_field[i,j])\n",
    "            h_field_valid_next[i,  j, 0] = h_field[i,  j, 0] - c_hxly[i, j] * (e_field[i, j+1] - e_field[i, j])\n",
    "            # print(h_field[i,  j, 0], c_hxly[i, j] , e_field[i, j+1] , e_field[i, j])\n",
    "            print(h_field[i,  j, 0],  c_hxly[i, j] * (e_field[i, j+1] - e_field[i, j]))\n",
    "h_field_next[:, :Ny-1, 0] = h_field[:, :Ny-1, 0] - c_hxly[:, :Ny-1,0] * (e_field[:, 1:, 0] - e_field[:, :Ny-1, 0])"
   ]
  },
  {
   "cell_type": "code",
   "execution_count": null,
   "metadata": {},
   "outputs": [],
   "source": [
    "h_field[:, :Ny-1, 0] - c_hxly[:, :Ny-1,0] * (e_field[:, 1:, 0] - e_field[:, :Ny-1, 0])"
   ]
  },
  {
   "cell_type": "code",
   "execution_count": null,
   "metadata": {
    "scrolled": true
   },
   "outputs": [],
   "source": [
    "h_field_next"
   ]
  },
  {
   "cell_type": "code",
   "execution_count": null,
   "metadata": {},
   "outputs": [],
   "source": [
    "h_field_valid_next"
   ]
  },
  {
   "cell_type": "code",
   "execution_count": null,
   "metadata": {},
   "outputs": [],
   "source": [
    "(h_field_next - h_field_valid_next)[:,:,0]"
   ]
  },
  {
   "cell_type": "code",
   "execution_count": null,
   "metadata": {},
   "outputs": [],
   "source": [
    "print(np.average(e_field) / np.average(e_field_valid))\n",
    "print(np.average(h_field) / np.average(h_field_valid))"
   ]
  },
  {
   "cell_type": "code",
   "execution_count": null,
   "metadata": {},
   "outputs": [],
   "source": [
    "fig = plt.figure()\n",
    "ims = []\n",
    "res_len = ez_val.shape[0]\n",
    "\n",
    "for k in range(res_len):\n",
    "    im = plt.imshow(ez_result[k,:,:,0], animated=True)\n",
    "    ims.append([im])\n",
    "\n",
    "ani = animation.ArtistAnimation(fig, ims, interval=50, blit=True, repeat_delay=1000)\n",
    "ani.save('anim1.gif', writer=\"imagemagick\")\n",
    "plt.show()"
   ]
  },
  {
   "cell_type": "code",
   "execution_count": null,
   "metadata": {},
   "outputs": [],
   "source": [
    " h_field[:Nx-1, :, 1] - c_hxlx[:Nx-1, :, 0] * (e_field[1:, :, 0] - e_field[:Nx-1, :, 0])"
   ]
  },
  {
   "cell_type": "code",
   "execution_count": null,
   "metadata": {},
   "outputs": [],
   "source": [
    "e_field[1:, :, 1] "
   ]
  },
  {
   "cell_type": "code",
   "execution_count": null,
   "metadata": {},
   "outputs": [],
   "source": [
    " e_field[1:, 1:, 0] = (c_ez[1:, 1:, 0] * e_field[1:, 1:, 0]) + c_ezly[1:, 1:, 0] * (h_field[1:, 1:, 0] - h_field[:-1, :-1, 0]) \\\n",
    "        + c_ezlx[1:, 1:, 0] * (h_field[1:, 1:, 1] - h_field[:-1, :-1, 1])"
   ]
  },
  {
   "cell_type": "code",
   "execution_count": null,
   "metadata": {},
   "outputs": [],
   "source": [
    "res = c_ezly[1:, 1:, 0] * (h_field[1:, 1:, 0] - h_field[:-1, :-1, 0])\n",
    "(c_ezlx[1:, 1:, 0] * (h_field[1:, 1:, 1] - h_field[:-1, :-1, 1])).shape"
   ]
  },
  {
   "cell_type": "code",
   "execution_count": null,
   "metadata": {},
   "outputs": [],
   "source": [
    "print(c_ez.shape, e_field.shape)"
   ]
  },
  {
   "cell_type": "code",
   "execution_count": null,
   "metadata": {},
   "outputs": [],
   "source": [
    "e_field.shape"
   ]
  },
  {
   "cell_type": "code",
   "execution_count": null,
   "metadata": {},
   "outputs": [],
   "source": [
    "(c_ezly[1:, 1:, 0] * (h_field[1:, 1:, 0] - h_field[:-1, :-1, 0])).shape"
   ]
  },
  {
   "cell_type": "code",
   "execution_count": null,
   "metadata": {},
   "outputs": [],
   "source": [
    "e_field[1:, 1:] = c_ez[1:, 1:] * e_field[1:, 1:] + c_ezly[1:, 1:, 0] * (h_field[1:, 1:, 0] - h_field[:-1, :-1, 0]) \\\n",
    "+ c_ezlx[1:, 1:, 0] * (h_field[1:, 1:, 1] - h_field[:-1, :-1, 1])"
   ]
  },
  {
   "cell_type": "code",
   "execution_count": null,
   "metadata": {},
   "outputs": [],
   "source": [
    "c_ezlx.shape, h_field.shape"
   ]
  },
  {
   "cell_type": "code",
   "execution_count": null,
   "metadata": {},
   "outputs": [],
   "source": [
    "(c_ezly[1:, 1:, 0] * (h_field[1:, 1:, 0] - h_field[:-1, :-1, 0]) ).shape"
   ]
  },
  {
   "cell_type": "code",
   "execution_count": null,
   "metadata": {},
   "outputs": [],
   "source": [
    "res = (c_ez[1:, 1:] * e_field[1:, 1:])[0] + c_ezly[1:, 1:, 0] * (h_field[1:, 1:, 0] - h_field[:-1, :-1, 0]) \\\n",
    "+ c_ezlx[1:, 1:, 0] * (h_field[1:, 1:, 1] - h_field[:-1, :-1, 1])\n",
    "res.shape"
   ]
  },
  {
   "cell_type": "code",
   "execution_count": null,
   "metadata": {},
   "outputs": [],
   "source": [
    "\n",
    "\n",
    "fig = plt.figure()\n",
    "ims = []\n",
    "res_len = ez_val.shape[0]\n",
    "\n",
    "for k in range(res_len):\n",
    "    im = plt.imshow(ez_result[k,:,:,0], animated=True)\n",
    "    ims.append([im])\n",
    "\n",
    "ani = animation.ArtistAnimation(fig, ims, interval=50, blit=True, repeat_delay=1000)\n",
    "ani.save('anim.gif', writer=\"imagemagick\")\n",
    "plt.show()"
   ]
  },
  {
   "cell_type": "code",
   "execution_count": null,
   "metadata": {},
   "outputs": [],
   "source": [
    "\"https://qiita.com/msrks/items/e264872efa062c7d6955\""
   ]
  },
  {
   "cell_type": "code",
   "execution_count": null,
   "metadata": {},
   "outputs": [],
   "source": [
    "fig = plt.figure()\n",
    "ims = []\n",
    "res_len = ez_val.shape[0]\n",
    "\n",
    "for k in range(res_len):\n",
    "    im = plt.imshow(ez_result[k,:,:,0], animated=True)\n",
    "    ims.append([im])\n",
    "\n",
    "ani = animation.ArtistAnimation(fig, ims, interval=50, blit=True, repeat_delay=1000)\n",
    "ani.save('anim.gif', writer=\"imagemagick\")\n",
    "plt.show()"
   ]
  }
 ],
 "metadata": {
  "kernelspec": {
   "display_name": "Python 3",
   "language": "python",
   "name": "python3"
  },
  "language_info": {
   "codemirror_mode": {
    "name": "ipython",
    "version": 3
   },
   "file_extension": ".py",
   "mimetype": "text/x-python",
   "name": "python",
   "nbconvert_exporter": "python",
   "pygments_lexer": "ipython3",
   "version": "3.7.0"
  }
 },
 "nbformat": 4,
 "nbformat_minor": 2
}
