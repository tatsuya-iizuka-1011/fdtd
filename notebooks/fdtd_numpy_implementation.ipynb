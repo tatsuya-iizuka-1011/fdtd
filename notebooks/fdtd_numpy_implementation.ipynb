{
 "cells": [
  {
   "cell_type": "code",
   "execution_count": 2,
   "metadata": {},
   "outputs": [],
   "source": [
    "import numpy as np\n",
    "import pandas as pd\n",
    "import matplotlib.pyplot as plt \n",
    "import matplotlib.animation as animation\n",
    "from mpl_toolkits.mplot3d import Axes3D\n",
    "\n",
    "\n",
    "from tqdm import tqdm \n",
    "%matplotlib inline\n",
    "\n",
    "# plt.style.use(\"dark_background\")"
   ]
  },
  {
   "cell_type": "code",
   "execution_count": 4,
   "metadata": {},
   "outputs": [],
   "source": [
    "permittivity_of_vacuum = 8.85419e-12\n",
    "permeability_of_vacuum = 1.25664e-06"
   ]
  },
  {
   "cell_type": "code",
   "execution_count": 5,
   "metadata": {},
   "outputs": [
    {
     "data": {
      "text/plain": [
       "2.9979207053166466"
      ]
     },
     "execution_count": 5,
     "metadata": {},
     "output_type": "execute_result"
    }
   ],
   "source": [
    "\n",
    "c = 1/ np.sqrt( permeability_of_vacuum * permittivity_of_vacuum)\n",
    "z0 = np.sqrt(permeability_of_vacuum/permittivity_of_vacuum)\n",
    "f = 1 * 1e8\n",
    "wave_length = c / f\n",
    "wave_length"
   ]
  },
  {
   "cell_type": "code",
   "execution_count": 6,
   "metadata": {},
   "outputs": [
    {
     "name": "stdout",
     "output_type": "stream",
     "text": [
      "check stable True\n"
     ]
    },
    {
     "name": "stderr",
     "output_type": "stream",
     "text": [
      "/anaconda3/lib/python3.7/site-packages/ipykernel_launcher.py:58: RuntimeWarning: overflow encountered in subtract\n",
      "/anaconda3/lib/python3.7/site-packages/ipykernel_launcher.py:60: RuntimeWarning: overflow encountered in subtract\n",
      "/anaconda3/lib/python3.7/site-packages/ipykernel_launcher.py:55: RuntimeWarning: overflow encountered in add\n",
      "/anaconda3/lib/python3.7/site-packages/ipykernel_launcher.py:58: RuntimeWarning: invalid value encountered in subtract\n",
      "/anaconda3/lib/python3.7/site-packages/ipykernel_launcher.py:55: RuntimeWarning: invalid value encountered in subtract\n"
     ]
    },
    {
     "name": "stdout",
     "output_type": "stream",
     "text": [
      "nan\n"
     ]
    }
   ],
   "source": [
    "t = 0\n",
    "dt = 1e-10\n",
    "nt= 1e4\n",
    "f = 1 * 1e8\n",
    "amplitude = 0.1\n",
    "\n",
    "ndim = 2\n",
    "Nx = Ny = 100\n",
    "dx = dy = 0.1 # when wave length is 1.5e6\n",
    "\n",
    "\n",
    "\n",
    "# set field properties\n",
    "conductivity = 0 * np.ones((Nx, Ny, 1))\n",
    "permittivity = permittivity_of_vacuum * np.ones((Nx, Ny, 1))\n",
    "permeability = permeability_of_vacuum * np.ones((Nx, Ny, 1))\n",
    "\n",
    "coeff1 = conductivity * dt / (2 * permittivity)\n",
    "c_ez = (1 - coeff1) / (1 + coeff1) \n",
    "c_ezlx = dt/(permittivity * dx * (1 + coeff1))\n",
    "c_ezly = dt/(permittivity * dy * (1 + coeff1))\n",
    "\n",
    "c_hxlx = dt/(permeability * dx)\n",
    "c_hxly = dt/(permeability * dy)\n",
    "\n",
    "e_field = np.zeros((Nx, Ny, 1)) # only z direction\n",
    "h_field = np.zeros((Nx, Ny, 2)) # x and y direction\n",
    "\n",
    "# set excitation properties\n",
    "ex_x = int(Nx / 2)\n",
    "ex_y = int(Ny / 2)\n",
    "t_arr  = np.arange(nt) * dt\n",
    "ez_result = np.zeros((t_arr.shape[0], Nx, Ny, 1))\n",
    "\n",
    "c = 1/ np.sqrt( permeability_of_vacuum * permittivity_of_vacuum)\n",
    "print(\"check stable\", 1/(np.sqrt((1/dx)**2 + (1/dy)**2)) >c * dt)\n",
    "\n",
    "e_field = np.zeros((Nx, Ny, 1)) # only z direction\n",
    "h_field = np.zeros((Nx, Ny, 2)) # x and y direction\n",
    "\n",
    "# set excitation properties\n",
    "'''\n",
    "ex_x = int(Nx / 2)\n",
    "ex_y = int(Ny / 2)\n",
    "t_arr  = np.arange(nt) * dt\n",
    "ez_val = amplitude * np.sin(2 * np.pi * f * t_arr)\n",
    "ez_result = np.zeros((t_arr.shape[0], Nx, Ny, 1))\n",
    "'''\n",
    "init_plane_wave = amplitude * np.sin(2 * np.pi * f  / c * dy * np.arange(Ny))\n",
    "e_field[:,:,0] = init_plane_wave\n",
    "\n",
    "for k, t in enumerate(t_arr):\n",
    "    ez_result[k] = e_field\n",
    "    # calc Ez\n",
    "    e_field[1:, 1:, 0] = (c_ez[1:, 1:, 0] * e_field[1:, 1:, 0]) + c_ezly[1:, 1:, 0] * (h_field[1:, 1:, 0] - h_field[1:, :Ny-1, 0]) \\\n",
    "        + c_ezlx[1:, 1:, 0] * (h_field[1:, 1:, 1] - h_field[:Nx-1, 1:, 1])    \n",
    "\n",
    "    # calc Hx\n",
    "    h_field[:, :Ny-1, 0] = h_field[:, :Ny-1, 0] - c_hxly[:, :Ny-1,0] * (e_field[:, 1:, 0] - e_field[:, :Ny-1, 0])\n",
    "    # calc Hy\n",
    "    h_field[:Nx-1, :, 1] -= c_hxlx[:Nx-1, :, 0] * (e_field[1:, :, 0] - e_field[:Nx-1, :, 0])\n",
    "    #plt.plot(t_arr, ez_val)\n",
    "    \n",
    "print(np.sqrt(np.sum(e_field**2)))"
   ]
  }
 ],
 "metadata": {
  "kernelspec": {
   "display_name": "Python 3",
   "language": "python",
   "name": "python3"
  },
  "language_info": {
   "codemirror_mode": {
    "name": "ipython",
    "version": 3
   },
   "file_extension": ".py",
   "mimetype": "text/x-python",
   "name": "python",
   "nbconvert_exporter": "python",
   "pygments_lexer": "ipython3",
   "version": "3.7.0"
  }
 },
 "nbformat": 4,
 "nbformat_minor": 2
}
